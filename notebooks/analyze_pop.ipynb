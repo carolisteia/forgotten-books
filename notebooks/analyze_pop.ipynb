{
 "cells": [
  {
   "cell_type": "code",
   "execution_count": null,
   "id": "editorial-exception",
   "metadata": {},
   "outputs": [],
   "source": [
    "import json\n",
    "\n",
    "import numpy as np\n",
    "import matplotlib.pyplot as plt\n",
    "import pandas as pd\n",
    "import networkx as nx\n",
    "import seaborn as sb\n",
    "\n",
    "from copia.hill import hill_numbers\n",
    "from copia.utils import evenness"
   ]
  },
  {
   "cell_type": "code",
   "execution_count": null,
   "id": "whole-flesh",
   "metadata": {},
   "outputs": [],
   "source": [
    "q_min, q_max, step = 0, 3, 0.1\n",
    "q = np.arange(q_min, q_max + step, step)"
   ]
  },
  {
   "cell_type": "markdown",
   "id": "brave-nature",
   "metadata": {},
   "source": [
    "## Network topologies:"
   ]
  },
  {
   "cell_type": "markdown",
   "id": "fluid-berkeley",
   "metadata": {},
   "source": [
    "Watts-Strogatz graph (sensu Lipo et al.):"
   ]
  },
  {
   "cell_type": "code",
   "execution_count": null,
   "id": "preliminary-donna",
   "metadata": {},
   "outputs": [],
   "source": [
    "degrees = 2, 10, 24\n",
    "n_agents = 25\n",
    "\n",
    "fig, axes = plt.subplots(ncols=len(degrees), figsize=(14, 4))\n",
    "axes = axes.flatten()\n",
    "\n",
    "for i, degree in enumerate(degrees):\n",
    "    G = nx.watts_strogatz_graph(n=25, k=degree, p=0.0, seed=n_agents)\n",
    "    pos = nx.kamada_kawai_layout(G)\n",
    "\n",
    "    nx.draw_networkx_nodes(G, pos, node_size=25, alpha=0.9, node_color=\"C1\", ax=axes[i])\n",
    "    nx.draw_networkx_edges(G, pos, alpha=0.3, ax=axes[i])\n",
    "    axes[i].set_title(f'$n$ = {n_agents}, $k$ = {degree}', pad=20)\n",
    "    axes[i].axis('off')"
   ]
  },
  {
   "cell_type": "code",
   "execution_count": null,
   "id": "familiar-universal",
   "metadata": {},
   "outputs": [],
   "source": [
    "with open('populations.json') as f:\n",
    "    populations = json.loads(f.read())"
   ]
  },
  {
   "cell_type": "code",
   "execution_count": null,
   "id": "aggressive-plane",
   "metadata": {},
   "outputs": [],
   "source": [
    "evenness_data, evenness_cv_data = [], []\n",
    "q1, q2, q3 = [int(i / step) for i in (1, 2, 3)]\n",
    "    \n",
    "fig, ax = plt.subplots(figsize=(15, 10))\n",
    "\n",
    "for k_idx, k in enumerate(populations.keys()):\n",
    "    for p_idx, p in enumerate(populations[k]):\n",
    "        try:\n",
    "            _, counts = np.unique(p, return_counts=True)\n",
    "            emp, _ = hill_numbers(counts, n_iter=1)\n",
    "            even = evenness(emp)\n",
    "            even_cv = evenness(emp, CV=True)\n",
    "            \n",
    "            # plot\n",
    "            if p_idx == 0:\n",
    "                ax.plot(q, even, c=f\"C{k_idx}\", linewidth=2, alpha=0.3, label=f'degree = {k}')\n",
    "            else:\n",
    "                ax.plot(q, even, c=f\"C{k_idx}\", linewidth=2, alpha=0.2)\n",
    "                \n",
    "            # collect evenness at various values for q:\n",
    "            evenness_data.append((k, even[q1], even[q2], even[q3]))\n",
    "            evenness_cv_data.append((k, even_cv[q1], even_cv[q2], even_cv[q3]))\n",
    "            \n",
    "        except ValueError:\n",
    "            pass\n",
    "\n",
    "ax.set_xlabel('Diversity order ($q$)')\n",
    "ax.set_ylabel(r'Evenness: $({}^qD - 1) / (\\hat{S} - 1)$')\n",
    "ax.set_title('Evenness profile')\n",
    "plt.legend();"
   ]
  },
  {
   "cell_type": "code",
   "execution_count": null,
   "id": "collected-singapore",
   "metadata": {},
   "outputs": [],
   "source": [
    "df = pd.DataFrame(evenness_data, columns=('k', 'q1', 'q2', 'q3'))\n",
    "k_dtype = pd.CategoricalDtype(sorted(set(df['k'])), ordered=True)\n",
    "df['k'] = df['k'].astype(k_dtype)\n",
    "df"
   ]
  },
  {
   "cell_type": "code",
   "execution_count": null,
   "id": "successful-intranet",
   "metadata": {},
   "outputs": [],
   "source": [
    "df.boxplot('q1', by='k');\n",
    "df.boxplot('q2', by='k');\n",
    "df.boxplot('q3', by='k');"
   ]
  }
 ],
 "metadata": {
  "kernelspec": {
   "display_name": "cop (py3.7.10)",
   "language": "python",
   "name": "cop"
  },
  "language_info": {
   "codemirror_mode": {
    "name": "ipython",
    "version": 3
   },
   "file_extension": ".py",
   "mimetype": "text/x-python",
   "name": "python",
   "nbconvert_exporter": "python",
   "pygments_lexer": "ipython3",
   "version": "3.7.10"
  }
 },
 "nbformat": 4,
 "nbformat_minor": 5
}
