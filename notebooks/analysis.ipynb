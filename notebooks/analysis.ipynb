{
 "cells": [
  {
   "cell_type": "markdown",
   "metadata": {},
   "source": [
    "# The Forgotten Books:  Unseen Species Models and the Survival of Medieval Literature\n",
    "## Supporting code \n",
    "\n",
    "The code in the present notebook relies on the `copia` software package (for Python 3.6+), which is available from [Github](https://github.com/mikekestemont/copia) and documented [here](https://copia.readthedocs.io/en/latest/). A recent version can be installed from PyPI (`>>> pip install copia`). In the cell below, we import the other modules on which the software depends:"
   ]
  },
  {
   "cell_type": "code",
   "execution_count": 1,
   "metadata": {},
   "outputs": [],
   "source": [
    "import glob\n",
    "import os\n",
    "\n",
    "import matplotlib.pyplot as plt\n",
    "import pandas as pd\n",
    "import numpy as np\n",
    "np.random.seed(543251) # control random seed\n",
    "\n",
    "import copia.utils as u\n",
    "from copia.richness import *\n",
    "from copia.hill import hill_numbers\n",
    "from copia.utils import survival_ratio\n",
    "from copia.utils import evenness\n",
    "from copia.plot import accumulation_curve\n",
    "from copia.plot import multi_kde\n",
    "from copia.plot import survival_errorbar\n",
    "from copia.plot import evenness_plot\n",
    "from copia.plot import density\n",
    "from copia.plot import hill_plot\n",
    "\n",
    "plt.style.use('science')\n",
    "\n",
    "plt.rcParams['axes.spines.right'] = False\n",
    "plt.rcParams['axes.spines.top'] = False\n",
    "plt.rcParams['xtick.top'] = False\n",
    "plt.rcParams['ytick.right'] = False\n",
    "plt.rcParams['ytick.minor.left'] = False"
   ]
  },
  {
   "cell_type": "markdown",
   "metadata": {},
   "source": [
    "## Data"
   ]
  },
  {
   "cell_type": "markdown",
   "metadata": {},
   "source": [
    "This repository ships with all datasets used in the study, which can be found as spreadsheets under `datasets/master`. We load the individual assemblages and convert them to `pandas` DataFrames:"
   ]
  },
  {
   "cell_type": "code",
   "execution_count": 2,
   "metadata": {},
   "outputs": [],
   "source": [
    "lits = {}\n",
    "for fn in sorted(glob.glob('../datasets/master/*.xlsx')):\n",
    "    if 'anglo-norman' in fn:\n",
    "        continue\n",
    "    df = pd.read_excel(fn).dropna(subset = [\"title\"])\n",
    "    lang = os.path.basename(fn).replace('.xlsx', '').lower()\n",
    "    lits[lang] = df[['title', 'signature', 'repository']]"
   ]
  },
  {
   "cell_type": "markdown",
   "metadata": {},
   "source": [
    "Next, we extract a high-number of high-level statistics from these datasets ($f_1$, $f_2$, $n$, and $S$, as well as the number of distinct repositories), which we cast to what is known as \"abundance data\" in ecology:"
   ]
  },
  {
   "cell_type": "code",
   "execution_count": 3,
   "metadata": {},
   "outputs": [
    {
     "data": {
      "text/plain": [
       "[{'language': 'dutch', 'f1': 45, 'f2': 13, 'S': 75, 'n': 167, 'repo': 80},\n",
       " {'language': 'english', 'f1': 42, 'f2': 8, 'S': 69, 'n': 176, 'repo': 36},\n",
       " {'language': 'french', 'f1': 90, 'f2': 21, 'S': 222, 'n': 1473, 'repo': 234},\n",
       " {'language': 'german', 'f1': 36, 'f2': 19, 'S': 128, 'n': 1088, 'repo': 389},\n",
       " {'language': 'icelandic', 'f1': 44, 'f2': 28, 'S': 117, 'n': 295, 'repo': 12},\n",
       " {'language': 'irish', 'f1': 69, 'f2': 54, 'S': 188, 'n': 449, 'repo': 15}]"
      ]
     },
     "execution_count": 3,
     "metadata": {},
     "output_type": "execute_result"
    }
   ],
   "source": [
    "stats = []\n",
    "for lit, df in lits.items():\n",
    "    abundance = u.to_abundance(df['title'])\n",
    "    s = u.basic_stats(abundance)\n",
    "    d = {'language': lit}\n",
    "    for k in ('f1', 'f2', 'S', 'n'):\n",
    "        d[k] = s[k]\n",
    "    d['repo'] = len(set(df['repository']))\n",
    "    stats.append(d)\n",
    "\n",
    "stats"
   ]
  },
  {
   "cell_type": "markdown",
   "metadata": {},
   "source": [
    "We add similar statistics for the union of the datasets, but do not include the number of repositories (because these have not been disambiguated across the assemblages):"
   ]
  },
  {
   "cell_type": "code",
   "execution_count": 4,
   "metadata": {},
   "outputs": [
    {
     "data": {
      "text/html": [
       "<div>\n",
       "<style scoped>\n",
       "    .dataframe tbody tr th:only-of-type {\n",
       "        vertical-align: middle;\n",
       "    }\n",
       "\n",
       "    .dataframe tbody tr th {\n",
       "        vertical-align: top;\n",
       "    }\n",
       "\n",
       "    .dataframe thead th {\n",
       "        text-align: right;\n",
       "    }\n",
       "</style>\n",
       "<table border=\"1\" class=\"dataframe\">\n",
       "  <thead>\n",
       "    <tr style=\"text-align: right;\">\n",
       "      <th></th>\n",
       "      <th>f1</th>\n",
       "      <th>f2</th>\n",
       "      <th>S</th>\n",
       "      <th>n</th>\n",
       "      <th>repo</th>\n",
       "    </tr>\n",
       "    <tr>\n",
       "      <th>language</th>\n",
       "      <th></th>\n",
       "      <th></th>\n",
       "      <th></th>\n",
       "      <th></th>\n",
       "      <th></th>\n",
       "    </tr>\n",
       "  </thead>\n",
       "  <tbody>\n",
       "    <tr>\n",
       "      <th>dutch</th>\n",
       "      <td>45</td>\n",
       "      <td>13</td>\n",
       "      <td>75</td>\n",
       "      <td>167</td>\n",
       "      <td>80</td>\n",
       "    </tr>\n",
       "    <tr>\n",
       "      <th>english</th>\n",
       "      <td>42</td>\n",
       "      <td>8</td>\n",
       "      <td>69</td>\n",
       "      <td>176</td>\n",
       "      <td>36</td>\n",
       "    </tr>\n",
       "    <tr>\n",
       "      <th>french</th>\n",
       "      <td>90</td>\n",
       "      <td>21</td>\n",
       "      <td>222</td>\n",
       "      <td>1473</td>\n",
       "      <td>234</td>\n",
       "    </tr>\n",
       "    <tr>\n",
       "      <th>german</th>\n",
       "      <td>36</td>\n",
       "      <td>19</td>\n",
       "      <td>128</td>\n",
       "      <td>1088</td>\n",
       "      <td>389</td>\n",
       "    </tr>\n",
       "    <tr>\n",
       "      <th>icelandic</th>\n",
       "      <td>44</td>\n",
       "      <td>28</td>\n",
       "      <td>117</td>\n",
       "      <td>295</td>\n",
       "      <td>12</td>\n",
       "    </tr>\n",
       "    <tr>\n",
       "      <th>irish</th>\n",
       "      <td>69</td>\n",
       "      <td>54</td>\n",
       "      <td>188</td>\n",
       "      <td>449</td>\n",
       "      <td>15</td>\n",
       "    </tr>\n",
       "    <tr>\n",
       "      <th>all</th>\n",
       "      <td>326</td>\n",
       "      <td>143</td>\n",
       "      <td>799</td>\n",
       "      <td>3648</td>\n",
       "      <td>None</td>\n",
       "    </tr>\n",
       "  </tbody>\n",
       "</table>\n",
       "</div>"
      ],
      "text/plain": [
       "            f1   f2    S     n  repo\n",
       "language                            \n",
       "dutch       45   13   75   167    80\n",
       "english     42    8   69   176    36\n",
       "french      90   21  222  1473   234\n",
       "german      36   19  128  1088   389\n",
       "icelandic   44   28  117   295    12\n",
       "irish       69   54  188   449    15\n",
       "all        326  143  799  3648  None"
      ]
     },
     "execution_count": 4,
     "metadata": {},
     "output_type": "execute_result"
    }
   ],
   "source": [
    "stats_df = pd.DataFrame(stats)\n",
    "stats_df['language'] = stats_df['language'].str.lower()\n",
    "stats_df.loc[len(stats_df)] = ['all'] + list(stats_df[['f1', 'f2', 'S', 'n']].sum()) + [None]\n",
    "stats_df = stats_df.set_index('language')\n",
    "stats_df"
   ]
  },
  {
   "cell_type": "markdown",
   "metadata": {},
   "source": [
    "## Union"
   ]
  },
  {
   "cell_type": "markdown",
   "metadata": {},
   "source": [
    "We start by analyzing the union of the six datasets. We explicitly add a language tag to each work's title, to avoid naming conflicts:"
   ]
  },
  {
   "cell_type": "code",
   "execution_count": 107,
   "metadata": {},
   "outputs": [
    {
     "data": {
      "text/html": [
       "<div>\n",
       "<style scoped>\n",
       "    .dataframe tbody tr th:only-of-type {\n",
       "        vertical-align: middle;\n",
       "    }\n",
       "\n",
       "    .dataframe tbody tr th {\n",
       "        vertical-align: top;\n",
       "    }\n",
       "\n",
       "    .dataframe thead th {\n",
       "        text-align: right;\n",
       "    }\n",
       "</style>\n",
       "<table border=\"1\" class=\"dataframe\">\n",
       "  <thead>\n",
       "    <tr style=\"text-align: right;\">\n",
       "      <th></th>\n",
       "      <th>title</th>\n",
       "      <th>signature</th>\n",
       "      <th>repository</th>\n",
       "    </tr>\n",
       "  </thead>\n",
       "  <tbody>\n",
       "    <tr>\n",
       "      <th>0</th>\n",
       "      <td>Aiol (1)_dutch</td>\n",
       "      <td>Leiden, UB, BPL 1049; Brussel, KB, IV 816</td>\n",
       "      <td>Leiden, UB ; Brussel, KB</td>\n",
       "    </tr>\n",
       "    <tr>\n",
       "      <th>1</th>\n",
       "      <td>Aiol (2)_dutch</td>\n",
       "      <td>Breda, Arch. Begijnhof, z.s.</td>\n",
       "      <td>Breda, Arch. Begijnhof</td>\n",
       "    </tr>\n",
       "    <tr>\n",
       "      <th>2</th>\n",
       "      <td>Alexanders geesten_dutch</td>\n",
       "      <td>München, Bayerische Staatsbibliotheek, Cod. ge...</td>\n",
       "      <td>München, Bayerische Staatsbibliotheek</td>\n",
       "    </tr>\n",
       "    <tr>\n",
       "      <th>3</th>\n",
       "      <td>Alexanders geesten_dutch</td>\n",
       "      <td>Gent, UB, 2749,6</td>\n",
       "      <td>Gent, UB</td>\n",
       "    </tr>\n",
       "    <tr>\n",
       "      <th>4</th>\n",
       "      <td>Alexanders geesten_dutch</td>\n",
       "      <td>Leiden, UB, Ltk. 1196</td>\n",
       "      <td>Leiden, UB</td>\n",
       "    </tr>\n",
       "    <tr>\n",
       "      <th>...</th>\n",
       "      <td>...</td>\n",
       "      <td>...</td>\n",
       "      <td>...</td>\n",
       "    </tr>\n",
       "    <tr>\n",
       "      <th>3643</th>\n",
       "      <td>Lorgaireacht an tSoidhigh Naomhtha_irish</td>\n",
       "      <td>Royal Irish Academy (Dublin) D iv 2</td>\n",
       "      <td>Royal Irish Academy, Dublin</td>\n",
       "    </tr>\n",
       "    <tr>\n",
       "      <th>3644</th>\n",
       "      <td>Lorgaireacht an tSoidhigh Naomhtha_irish</td>\n",
       "      <td>Bodleian (Oxford) Rawlinson B 512</td>\n",
       "      <td>Bodleian Library, Oxford</td>\n",
       "    </tr>\n",
       "    <tr>\n",
       "      <th>3645</th>\n",
       "      <td>Stair na Lumbardach_irish</td>\n",
       "      <td>UCC Book of Lismore</td>\n",
       "      <td>University College Library, Cork</td>\n",
       "    </tr>\n",
       "    <tr>\n",
       "      <th>3646</th>\n",
       "      <td>[Seven Wise Masters]_irish</td>\n",
       "      <td>Trinity College Library MS 667</td>\n",
       "      <td>Trinity College, Dublin</td>\n",
       "    </tr>\n",
       "    <tr>\n",
       "      <th>3647</th>\n",
       "      <td>Iartaige na hIngene_irish</td>\n",
       "      <td>Trinity College Library MS 1339</td>\n",
       "      <td>Trinity College, Dublin</td>\n",
       "    </tr>\n",
       "  </tbody>\n",
       "</table>\n",
       "<p>3648 rows × 3 columns</p>\n",
       "</div>"
      ],
      "text/plain": [
       "                                         title  \\\n",
       "0                               Aiol (1)_dutch   \n",
       "1                               Aiol (2)_dutch   \n",
       "2                     Alexanders geesten_dutch   \n",
       "3                     Alexanders geesten_dutch   \n",
       "4                     Alexanders geesten_dutch   \n",
       "...                                        ...   \n",
       "3643  Lorgaireacht an tSoidhigh Naomhtha_irish   \n",
       "3644  Lorgaireacht an tSoidhigh Naomhtha_irish   \n",
       "3645                 Stair na Lumbardach_irish   \n",
       "3646                [Seven Wise Masters]_irish   \n",
       "3647                 Iartaige na hIngene_irish   \n",
       "\n",
       "                                              signature  \\\n",
       "0             Leiden, UB, BPL 1049; Brussel, KB, IV 816   \n",
       "1                          Breda, Arch. Begijnhof, z.s.   \n",
       "2     München, Bayerische Staatsbibliotheek, Cod. ge...   \n",
       "3                                      Gent, UB, 2749,6   \n",
       "4                                 Leiden, UB, Ltk. 1196   \n",
       "...                                                 ...   \n",
       "3643                Royal Irish Academy (Dublin) D iv 2   \n",
       "3644                  Bodleian (Oxford) Rawlinson B 512   \n",
       "3645                                UCC Book of Lismore   \n",
       "3646                     Trinity College Library MS 667   \n",
       "3647                    Trinity College Library MS 1339   \n",
       "\n",
       "                                 repository  \n",
       "0                  Leiden, UB ; Brussel, KB  \n",
       "1                    Breda, Arch. Begijnhof  \n",
       "2     München, Bayerische Staatsbibliotheek  \n",
       "3                                  Gent, UB  \n",
       "4                                Leiden, UB  \n",
       "...                                     ...  \n",
       "3643            Royal Irish Academy, Dublin  \n",
       "3644               Bodleian Library, Oxford  \n",
       "3645       University College Library, Cork  \n",
       "3646                Trinity College, Dublin  \n",
       "3647                Trinity College, Dublin  \n",
       "\n",
       "[3648 rows x 3 columns]"
      ]
     },
     "execution_count": 107,
     "metadata": {},
     "output_type": "execute_result"
    }
   ],
   "source": [
    "dfs = []\n",
    "for lang, df in lits.items():\n",
    "    df['title'] = [t+'_'+lang for t in df['title']]\n",
    "    dfs.append(df)\n",
    "    \n",
    "df_all = pd.concat(dfs, ignore_index=True)\n",
    "df_all"
   ]
  },
  {
   "cell_type": "markdown",
   "metadata": {},
   "source": [
    "We convert this information to abundance data, using a utility function from `copia`:"
   ]
  },
  {
   "cell_type": "code",
   "execution_count": 108,
   "metadata": {},
   "outputs": [],
   "source": [
    "abundance = u.to_abundance(df_all['title'])"
   ]
  },
  {
   "cell_type": "markdown",
   "metadata": {},
   "source": [
    "We'll store all resulting assets to an `outputs` directory:"
   ]
  },
  {
   "cell_type": "code",
   "execution_count": 7,
   "metadata": {},
   "outputs": [],
   "source": [
    "try:\n",
    "    os.mkdir('../outputs')\n",
    "except FileExistsError:\n",
    "    pass"
   ]
  },
  {
   "cell_type": "markdown",
   "metadata": {},
   "source": [
    "First, we obtain point estimates for the survival of the numbers of works (\"Chao1\") and documents (\"minsample\"):"
   ]
  },
  {
   "cell_type": "code",
   "execution_count": 109,
   "metadata": {},
   "outputs": [
    {
     "name": "stdout",
     "output_type": "stream",
     "text": [
      "original # works: 1170.492543092872\n",
      "original # documents: 40614.31536631537\n"
     ]
    },
    {
     "name": "stderr",
     "output_type": "stream",
     "text": [
      "/Users/folgert/projects/copia/copia/richness.py:450: UserWarning: Tolerance criterion not met: 0.19520926261066052 > 0.1\n",
      "  warnings.warn(f\"Tolerance criterion not met: {diff_intersect} > {tolerance}\")\n"
     ]
    }
   ],
   "source": [
    "print('original # works:', diversity(abundance, method='chao1'))\n",
    "print('original # documents:', diversity(abundance, method='minsample'))"
   ]
  },
  {
   "cell_type": "markdown",
   "metadata": {},
   "source": [
    "We continue with plotting density curves that show the bootstrap estimates (and associated quantiles) for the diversity estimates as survival ratios. Note that `survival_ratio()` converts the initial estimate to a survival rate, i.e. by taking the ratio of the estimates over the observed $S$ and $n$ respectively."
   ]
  },
  {
   "cell_type": "code",
   "execution_count": 110,
   "metadata": {},
   "outputs": [
    {
     "name": "stderr",
     "output_type": "stream",
     "text": [
      "100%|██████████| 10000/10000 [00:02<00:00, 4161.02it/s]\n"
     ]
    }
   ],
   "source": [
    "wsurvival_all = survival_ratio(abundance, method='chao1', n_iter=10000)"
   ]
  },
  {
   "cell_type": "code",
   "execution_count": 133,
   "metadata": {},
   "outputs": [
    {
     "data": {
      "text/plain": [
       "<Figure size 252x189 with 0 Axes>"
      ]
     },
     "metadata": {},
     "output_type": "display_data"
    }
   ],
   "source": [
    "run ../../copia/copia/plot.py"
   ]
  },
  {
   "cell_type": "code",
   "execution_count": 140,
   "metadata": {},
   "outputs": [
    {
     "data": {
      "image/png": "[encoded data removed]",
      "text/plain": [
       "<Figure size 360x288 with 1 Axes>"
      ]
     },
     "metadata": {
      "needs_background": "light"
     },
     "output_type": "display_data"
    }
   ],
   "source": [
    "ax = density(wsurvival_all, figsize=(5, 4), xlim=(0.5, 0.9))\n",
    "ax.set_yticklabels([])\n",
    "ax.tick_params(axis='y', which='both', left=False)\n",
    "ax.set_ylabel(None)\n",
    "ax.spines['left'].set_visible(False)\n",
    "plt.savefig('../outputs/dens_works.pdf')"
   ]
  },
  {
   "cell_type": "code",
   "execution_count": 111,
   "metadata": {},
   "outputs": [
    {
     "name": "stderr",
     "output_type": "stream",
     "text": [
      "100%|██████████| 10000/10000 [03:41<00:00, 45.16it/s]\n"
     ]
    }
   ],
   "source": [
    "dsurvival_all = survival_ratio(abundance, method='minsample', n_iter=10000)"
   ]
  },
  {
   "cell_type": "code",
   "execution_count": 142,
   "metadata": {},
   "outputs": [
    {
     "data": {
      "image/png": "[encoded data removed]",
      "text/plain": [
       "<Figure size 360x288 with 1 Axes>"
      ]
     },
     "metadata": {
      "needs_background": "light"
     },
     "output_type": "display_data"
    }
   ],
   "source": [
    "ax = density(dsurvival_all, figsize=(5, 4), xlim=(0.04, 0.15))\n",
    "ax.set_yticklabels([])\n",
    "ax.tick_params(axis='y', which='both', left=False)\n",
    "ax.set_ylabel(None)\n",
    "ax.spines['left'].set_visible(False)\n",
    "plt.savefig('../outputs/dens_docs.pdf')"
   ]
  },
  {
   "cell_type": "markdown",
   "metadata": {},
   "source": [
    "Next, we plot the so-called **species accumulation curve** for the union of the datasets (which will take a while to run). This curve is relevant for specialists of medieval literature, as it gives an indication of the rate at which we might still be discovering new works in the future, by sighting more documents (provided these witnesses have yet not been lost beyond retrieval):"
   ]
  },
  {
   "cell_type": "code",
   "execution_count": 143,
   "metadata": {},
   "outputs": [
    {
     "name": "stderr",
     "output_type": "stream",
     "text": [
      "100%|██████████| 100/100 [1:07:12<00:00, 40.33s/it] \n"
     ]
    }
   ],
   "source": [
    "max_steps = 60000 # this number already takes into account the minsample-estimate\n",
    "accumulation = species_accumulation(abundance, max_steps=max_steps)"
   ]
  },
  {
   "cell_type": "markdown",
   "metadata": {},
   "source": [
    "To this plot, we will later add a kernel-density estimate that shows the bootstrapped estimates from the `minsample` estimate (on the secondary, horizontal axis). Informally, the resulting blob corresponds to the area where we expect the asymptotic curve from the previous to start saturating. During the `minsample`'s bootstrap procedure initiated in the cell below, `UserWarning`s may sporadically appear in cases where the optimization didn't satisfactorily converge. This is expected behavior.)"
   ]
  },
  {
   "cell_type": "code",
   "execution_count": 144,
   "metadata": {},
   "outputs": [
    {
     "name": "stderr",
     "output_type": "stream",
     "text": [
      "/Users/folgert/projects/copia/copia/richness.py:424: RuntimeWarning: overflow encountered in exp\n",
      "  v = lambda x: np.exp(x * (2 * f2 / f1))\n",
      "/usr/local/lib/python3.8/site-packages/scipy/optimize/minpack.py:175: RuntimeWarning: The iteration is not making good progress, as measured by the \n",
      "  improvement from the last ten iterations.\n",
      "  warnings.warn(msg, RuntimeWarning)\n",
      "/Users/folgert/projects/copia/copia/richness.py:437: UserWarning: Tolerance criterion not met via fsolve: inf > 0.1-> backing off to grid-solver.\n",
      "  warnings.warn(msg)\n",
      "/Users/folgert/projects/copia/copia/richness.py:450: UserWarning: Tolerance criterion not met: 0.19520926261066052 > 0.1\n",
      "  warnings.warn(f\"Tolerance criterion not met: {diff_intersect} > {tolerance}\")\n"
     ]
    },
    {
     "name": "stdout",
     "output_type": "stream",
     "text": [
      "Diff_intersect: inf\n"
     ]
    },
    {
     "name": "stderr",
     "output_type": "stream",
     "text": [
      "100%|██████████| 10000/10000 [03:52<00:00, 42.99it/s]\n"
     ]
    }
   ],
   "source": [
    "minsample_est = diversity(abundance, method='minsample', \n",
    "                          solver='fsolve', CI=True, n_iter=10000)"
   ]
  },
  {
   "cell_type": "markdown",
   "metadata": {},
   "source": [
    "Finally, we plot the Hill number profile for the union of the datasets. We can do this both for the emprically observed data, as well as the bias-corrected reconstruction:"
   ]
  },
  {
   "cell_type": "code",
   "execution_count": 145,
   "metadata": {},
   "outputs": [
    {
     "name": "stderr",
     "output_type": "stream",
     "text": [
      "100%|██████████| 10000/10000 [00:04<00:00, 2114.52it/s]\n",
      "100%|██████████| 10000/10000 [24:29<00:00,  6.81it/s]\n"
     ]
    }
   ],
   "source": [
    "emp, est = hill_numbers(abundance, n_iter=10000, n_jobs=4)"
   ]
  },
  {
   "cell_type": "markdown",
   "metadata": {},
   "source": [
    "We now combine the statistics calculated above into a single plot, where the species accumulation curve is plotted inside the Hill plot:"
   ]
  },
  {
   "cell_type": "code",
   "execution_count": 234,
   "metadata": {},
   "outputs": [
    {
     "data": {
      "text/plain": [
       "<Figure size 252x189 with 0 Axes>"
      ]
     },
     "metadata": {},
     "output_type": "display_data"
    }
   ],
   "source": [
    "%run ../../copia/copia/plot.py"
   ]
  },
  {
   "cell_type": "code",
   "execution_count": 236,
   "metadata": {},
   "outputs": [
    {
     "data": {
      "image/png": "[encoded data removed]",
      "text/plain": [
       "<Figure size 576x432 with 3 Axes>"
      ]
     },
     "metadata": {
      "needs_background": "light"
     },
     "output_type": "display_data"
    }
   ],
   "source": [
    "left, bottom, width, height = [0.44, 0.45, 0.35, 0.35]\n",
    "fig, ax = plt.subplots(figsize=(8, 6))\n",
    "\n",
    "hill_plot(emp, est, add_densities=False, ax=ax)\n",
    "ax2 = fig.add_axes([left, bottom, width, height])\n",
    "\n",
    "accumulation_curve(abundance, accumulation, c0='C2', c1='C5',\n",
    "                   xlabel='documents', ylabel='works',\n",
    "                   title='Species accumulation curve', ax=ax2,\n",
    "                   minsample=minsample_est, xlim=(0, max_steps))\n",
    "ax2.tick_params(axis='y', which='minor', left=False)\n",
    "ax2.ticklabel_format(style='sci', axis='x', scilimits=(0, 0), useMathText=True)\n",
    "\n",
    "plt.savefig('../outputs/all_comb.pdf');"
   ]
  },
  {
   "cell_type": "markdown",
   "metadata": {},
   "source": [
    "## Language-specific estimates"
   ]
  },
  {
   "cell_type": "markdown",
   "metadata": {},
   "source": [
    "We now turn to the estimates for the individual vernaculars considered. We first convert the available counts data to abundance data:"
   ]
  },
  {
   "cell_type": "code",
   "execution_count": 15,
   "metadata": {},
   "outputs": [],
   "source": [
    "assemblages = {}\n",
    "for lit, df in lits.items():\n",
    "    abundance = u.to_abundance(df['title'])\n",
    "    assemblages[lit.title()] = abundance"
   ]
  },
  {
   "cell_type": "markdown",
   "metadata": {},
   "source": [
    "Point estimates for the original diversity of these assemblages are straightforward to obtain:"
   ]
  },
  {
   "cell_type": "code",
   "execution_count": 16,
   "metadata": {},
   "outputs": [
    {
     "name": "stdout",
     "output_type": "stream",
     "text": [
      "category: Dutch\n",
      "  - original # works: 152.41824044219254\n",
      "  - original # documents: 2214.756047756048\n",
      "category: English\n",
      "  - original # works: 178.62357954545456\n",
      "  - original # documents: 3620.006644006644\n",
      "category: French\n",
      "  - original # works: 414.72621472214144\n",
      "  - original # documents: 27050.63947763948\n",
      "category: German\n",
      "  - original # works: 162.07391640866874\n",
      "  - original # documents: 7483.8143958143955\n",
      "category: Icelandic\n",
      "  - original # works: 151.4542372881356\n",
      "  - original # documents: 1744.74944974945\n",
      "category: Irish\n",
      "  - original # works: 231.98515219005196\n",
      "  - original # documents: 2335.4753864753866\n"
     ]
    }
   ],
   "source": [
    "for category, assemblage in assemblages.items():\n",
    "    print('category:', category)\n",
    "    print('  - original # works:', diversity(assemblage, method='chao1'))\n",
    "    print('  - original # documents:', diversity(assemblage, method='minsample'))"
   ]
  },
  {
   "cell_type": "markdown",
   "metadata": {},
   "source": [
    "The survival ratios resulting from the bootstrap procedure can be calculated in the following way;"
   ]
  },
  {
   "cell_type": "code",
   "execution_count": 17,
   "metadata": {},
   "outputs": [
    {
     "name": "stderr",
     "output_type": "stream",
     "text": [
      "100%|██████████| 1000/1000 [00:01<00:00, 608.91it/s]\n",
      "100%|██████████| 1000/1000 [00:01<00:00, 707.44it/s]\n",
      "100%|██████████| 1000/1000 [00:01<00:00, 694.43it/s]\n",
      "100%|██████████| 1000/1000 [00:01<00:00, 686.19it/s]\n",
      "100%|██████████| 1000/1000 [00:01<00:00, 685.52it/s]\n",
      "100%|██████████| 1000/1000 [00:01<00:00, 676.83it/s]\n"
     ]
    }
   ],
   "source": [
    "wsurvival = {}\n",
    "for category, assemblage in assemblages.items():\n",
    "    wsurvival[category] = survival_ratio(assemblage, method='chao1')"
   ]
  },
  {
   "cell_type": "markdown",
   "metadata": {},
   "source": [
    "`copia` offers two auxiliary functions to visualize and compare the (bootstrapped) results across multiple assemblages. First, using colored kernel-density estimates:"
   ]
  },
  {
   "cell_type": "code",
   "execution_count": 9,
   "metadata": {},
   "outputs": [],
   "source": [
    "%matplotlib inline"
   ]
  },
  {
   "cell_type": "code",
   "execution_count": 18,
   "metadata": {},
   "outputs": [
    {
     "data": {
      "image/png": "[encoded data removed]",
      "text/plain": [
       "<Figure size 432x288 with 1 Axes>"
      ]
     },
     "metadata": {
      "needs_background": "light"
     },
     "output_type": "display_data"
    }
   ],
   "source": [
    "ax = multi_kde(wsurvival)\n",
    "ax.legend(loc='upper left')\n",
    "ax.set_xlabel('Survival ratio (works)')\n",
    "ax.set_yticklabels([])\n",
    "ax.tick_params(axis='y', which='both', left=False)\n",
    "ax.spines['left'].set_visible(False)\n",
    "plt.savefig('../outputs/survival_works_kde.pdf')"
   ]
  },
  {
   "cell_type": "markdown",
   "metadata": {},
   "source": [
    "(Note how two clusters emerge.) Secondly, using error bars corresponding to the confidence intervals:"
   ]
  },
  {
   "cell_type": "code",
   "execution_count": 45,
   "metadata": {},
   "outputs": [
    {
     "data": {
      "text/plain": [
       "<Figure size 432x288 with 0 Axes>"
      ]
     },
     "metadata": {},
     "output_type": "display_data"
    }
   ],
   "source": [
    "run ../../copia/copia/plot.py"
   ]
  },
  {
   "cell_type": "code",
   "execution_count": 19,
   "metadata": {},
   "outputs": [
    {
     "data": {
      "image/png": "[encoded data removed]",
      "text/plain": [
       "<Figure size 432x288 with 1 Axes>"
      ]
     },
     "metadata": {
      "needs_background": "light"
     },
     "output_type": "display_data"
    }
   ],
   "source": [
    "ax = survival_errorbar(wsurvival, ylabel=\"survival ratio\")\n",
    "ax.tick_params(axis='x', which='minor', bottom=False)\n",
    "plt.savefig('../outputs/survival_works_error.pdf')"
   ]
  },
  {
   "cell_type": "markdown",
   "metadata": {},
   "source": [
    "The previous cells were for the survival ratios of works; those for documents can be calculated and plotted analogously. Relatively speaking, the results for documents mirror those for the works."
   ]
  },
  {
   "cell_type": "code",
   "execution_count": 20,
   "metadata": {},
   "outputs": [
    {
     "name": "stderr",
     "output_type": "stream",
     "text": [
      "100%|██████████| 1000/1000 [00:23<00:00, 43.15it/s]\n",
      "100%|██████████| 1000/1000 [00:23<00:00, 42.25it/s]\n",
      "100%|██████████| 1000/1000 [00:23<00:00, 42.49it/s]\n",
      "100%|██████████| 1000/1000 [00:23<00:00, 42.70it/s]\n",
      "100%|██████████| 1000/1000 [00:23<00:00, 43.35it/s]\n",
      "100%|██████████| 1000/1000 [00:22<00:00, 43.73it/s]\n"
     ]
    }
   ],
   "source": [
    "dsurvival = {}\n",
    "for category, assemblage in assemblages.items():\n",
    "    dsurvival[category] = survival_ratio(assemblage, method='minsample')"
   ]
  },
  {
   "cell_type": "code",
   "execution_count": 22,
   "metadata": {},
   "outputs": [
    {
     "data": {
      "image/png": "[encoded data removed]",
      "text/plain": [
       "<Figure size 432x288 with 1 Axes>"
      ]
     },
     "metadata": {
      "needs_background": "light"
     },
     "output_type": "display_data"
    }
   ],
   "source": [
    "ax = multi_kde(dsurvival)\n",
    "ax.legend(loc='upper right')\n",
    "ax.set_xlim((0, 0.35))\n",
    "ax.set_yticklabels([])\n",
    "ax.tick_params(axis='y', which='both', left=False)\n",
    "ax.spines['left'].set_visible(False)\n",
    "ax.set_xlabel('Survival ratio (documents)')\n",
    "plt.savefig('../outputs/survival_docs_kde.pdf')"
   ]
  },
  {
   "cell_type": "code",
   "execution_count": 23,
   "metadata": {},
   "outputs": [
    {
     "data": {
      "image/png": "[encoded data removed]",
      "text/plain": [
       "<Figure size 432x288 with 1 Axes>"
      ]
     },
     "metadata": {
      "needs_background": "light"
     },
     "output_type": "display_data"
    }
   ],
   "source": [
    "ax = survival_errorbar(dsurvival, ylabel=\"survival ratio\")\n",
    "ax.tick_params(axis='x', which='minor', bottom=False)\n",
    "plt.savefig('../outputs/survival_docs_error.pdf')"
   ]
  },
  {
   "cell_type": "markdown",
   "metadata": {},
   "source": [
    "We can now summarize the results for the language-specific estimation into a single overview table:"
   ]
  },
  {
   "cell_type": "code",
   "execution_count": 237,
   "metadata": {},
   "outputs": [
    {
     "data": {
      "text/html": [
       "<div>\n",
       "<style scoped>\n",
       "    .dataframe tbody tr th:only-of-type {\n",
       "        vertical-align: middle;\n",
       "    }\n",
       "\n",
       "    .dataframe tbody tr th {\n",
       "        vertical-align: top;\n",
       "    }\n",
       "\n",
       "    .dataframe thead th {\n",
       "        text-align: right;\n",
       "    }\n",
       "</style>\n",
       "<table border=\"1\" class=\"dataframe\">\n",
       "  <thead>\n",
       "    <tr style=\"text-align: right;\">\n",
       "      <th></th>\n",
       "      <th>f1</th>\n",
       "      <th>f2</th>\n",
       "      <th>S</th>\n",
       "      <th>n</th>\n",
       "      <th>repo</th>\n",
       "      <th>CH1</th>\n",
       "      <th>CH1-lCI</th>\n",
       "      <th>CH1-uCI</th>\n",
       "      <th>MS</th>\n",
       "      <th>MS-lCI</th>\n",
       "      <th>MS-uCI</th>\n",
       "    </tr>\n",
       "    <tr>\n",
       "      <th>language</th>\n",
       "      <th></th>\n",
       "      <th></th>\n",
       "      <th></th>\n",
       "      <th></th>\n",
       "      <th></th>\n",
       "      <th></th>\n",
       "      <th></th>\n",
       "      <th></th>\n",
       "      <th></th>\n",
       "      <th></th>\n",
       "      <th></th>\n",
       "    </tr>\n",
       "  </thead>\n",
       "  <tbody>\n",
       "    <tr>\n",
       "      <th>dutch</th>\n",
       "      <td>45.0</td>\n",
       "      <td>13.0</td>\n",
       "      <td>75.0</td>\n",
       "      <td>167.0</td>\n",
       "      <td>80</td>\n",
       "      <td>0.000</td>\n",
       "      <td>0.000</td>\n",
       "      <td>0.000</td>\n",
       "      <td>0.000</td>\n",
       "      <td>0.000</td>\n",
       "      <td>0.000</td>\n",
       "    </tr>\n",
       "    <tr>\n",
       "      <th>english</th>\n",
       "      <td>42.0</td>\n",
       "      <td>8.0</td>\n",
       "      <td>69.0</td>\n",
       "      <td>176.0</td>\n",
       "      <td>36</td>\n",
       "      <td>0.000</td>\n",
       "      <td>0.000</td>\n",
       "      <td>0.000</td>\n",
       "      <td>0.000</td>\n",
       "      <td>0.000</td>\n",
       "      <td>0.000</td>\n",
       "    </tr>\n",
       "    <tr>\n",
       "      <th>french</th>\n",
       "      <td>90.0</td>\n",
       "      <td>21.0</td>\n",
       "      <td>222.0</td>\n",
       "      <td>1473.0</td>\n",
       "      <td>234</td>\n",
       "      <td>0.000</td>\n",
       "      <td>0.000</td>\n",
       "      <td>0.000</td>\n",
       "      <td>0.000</td>\n",
       "      <td>0.000</td>\n",
       "      <td>0.000</td>\n",
       "    </tr>\n",
       "    <tr>\n",
       "      <th>german</th>\n",
       "      <td>36.0</td>\n",
       "      <td>19.0</td>\n",
       "      <td>128.0</td>\n",
       "      <td>1088.0</td>\n",
       "      <td>389</td>\n",
       "      <td>0.000</td>\n",
       "      <td>0.000</td>\n",
       "      <td>0.000</td>\n",
       "      <td>0.000</td>\n",
       "      <td>0.000</td>\n",
       "      <td>0.000</td>\n",
       "    </tr>\n",
       "    <tr>\n",
       "      <th>icelandic</th>\n",
       "      <td>44.0</td>\n",
       "      <td>28.0</td>\n",
       "      <td>117.0</td>\n",
       "      <td>295.0</td>\n",
       "      <td>12</td>\n",
       "      <td>0.000</td>\n",
       "      <td>0.000</td>\n",
       "      <td>0.000</td>\n",
       "      <td>0.000</td>\n",
       "      <td>0.000</td>\n",
       "      <td>0.000</td>\n",
       "    </tr>\n",
       "    <tr>\n",
       "      <th>irish</th>\n",
       "      <td>69.0</td>\n",
       "      <td>54.0</td>\n",
       "      <td>188.0</td>\n",
       "      <td>449.0</td>\n",
       "      <td>15</td>\n",
       "      <td>0.000</td>\n",
       "      <td>0.000</td>\n",
       "      <td>0.000</td>\n",
       "      <td>0.000</td>\n",
       "      <td>0.000</td>\n",
       "      <td>0.000</td>\n",
       "    </tr>\n",
       "    <tr>\n",
       "      <th>all</th>\n",
       "      <td>326.0</td>\n",
       "      <td>143.0</td>\n",
       "      <td>799.0</td>\n",
       "      <td>3648.0</td>\n",
       "      <td>None</td>\n",
       "      <td>0.683</td>\n",
       "      <td>0.631</td>\n",
       "      <td>0.735</td>\n",
       "      <td>0.090</td>\n",
       "      <td>0.075</td>\n",
       "      <td>0.107</td>\n",
       "    </tr>\n",
       "    <tr>\n",
       "      <th>Dutch</th>\n",
       "      <td>NaN</td>\n",
       "      <td>NaN</td>\n",
       "      <td>NaN</td>\n",
       "      <td>NaN</td>\n",
       "      <td>NaN</td>\n",
       "      <td>0.000</td>\n",
       "      <td>0.000</td>\n",
       "      <td>0.000</td>\n",
       "      <td>0.075</td>\n",
       "      <td>0.043</td>\n",
       "      <td>0.133</td>\n",
       "    </tr>\n",
       "    <tr>\n",
       "      <th>English</th>\n",
       "      <td>NaN</td>\n",
       "      <td>NaN</td>\n",
       "      <td>NaN</td>\n",
       "      <td>NaN</td>\n",
       "      <td>NaN</td>\n",
       "      <td>0.386</td>\n",
       "      <td>0.238</td>\n",
       "      <td>0.576</td>\n",
       "      <td>0.049</td>\n",
       "      <td>0.023</td>\n",
       "      <td>0.088</td>\n",
       "    </tr>\n",
       "    <tr>\n",
       "      <th>French</th>\n",
       "      <td>NaN</td>\n",
       "      <td>NaN</td>\n",
       "      <td>NaN</td>\n",
       "      <td>NaN</td>\n",
       "      <td>NaN</td>\n",
       "      <td>0.000</td>\n",
       "      <td>0.000</td>\n",
       "      <td>0.000</td>\n",
       "      <td>0.054</td>\n",
       "      <td>0.039</td>\n",
       "      <td>0.073</td>\n",
       "    </tr>\n",
       "    <tr>\n",
       "      <th>German</th>\n",
       "      <td>NaN</td>\n",
       "      <td>NaN</td>\n",
       "      <td>NaN</td>\n",
       "      <td>NaN</td>\n",
       "      <td>NaN</td>\n",
       "      <td>0.000</td>\n",
       "      <td>0.000</td>\n",
       "      <td>0.000</td>\n",
       "      <td>0.145</td>\n",
       "      <td>0.089</td>\n",
       "      <td>0.237</td>\n",
       "    </tr>\n",
       "    <tr>\n",
       "      <th>Icelandic</th>\n",
       "      <td>NaN</td>\n",
       "      <td>NaN</td>\n",
       "      <td>NaN</td>\n",
       "      <td>NaN</td>\n",
       "      <td>NaN</td>\n",
       "      <td>0.000</td>\n",
       "      <td>0.000</td>\n",
       "      <td>0.000</td>\n",
       "      <td>0.169</td>\n",
       "      <td>0.100</td>\n",
       "      <td>0.297</td>\n",
       "    </tr>\n",
       "    <tr>\n",
       "      <th>Irish</th>\n",
       "      <td>NaN</td>\n",
       "      <td>NaN</td>\n",
       "      <td>NaN</td>\n",
       "      <td>NaN</td>\n",
       "      <td>NaN</td>\n",
       "      <td>0.000</td>\n",
       "      <td>0.000</td>\n",
       "      <td>0.000</td>\n",
       "      <td>0.192</td>\n",
       "      <td>0.124</td>\n",
       "      <td>0.300</td>\n",
       "    </tr>\n",
       "    <tr>\n",
       "      <th>English with Anglo-Norman</th>\n",
       "      <td>NaN</td>\n",
       "      <td>NaN</td>\n",
       "      <td>NaN</td>\n",
       "      <td>NaN</td>\n",
       "      <td>NaN</td>\n",
       "      <td>0.516</td>\n",
       "      <td>0.369</td>\n",
       "      <td>0.682</td>\n",
       "      <td>NaN</td>\n",
       "      <td>NaN</td>\n",
       "      <td>NaN</td>\n",
       "    </tr>\n",
       "  </tbody>\n",
       "</table>\n",
       "</div>"
      ],
      "text/plain": [
       "                              f1     f2      S       n  repo    CH1  CH1-lCI  \\\n",
       "language                                                                       \n",
       "dutch                       45.0   13.0   75.0   167.0    80  0.000    0.000   \n",
       "english                     42.0    8.0   69.0   176.0    36  0.000    0.000   \n",
       "french                      90.0   21.0  222.0  1473.0   234  0.000    0.000   \n",
       "german                      36.0   19.0  128.0  1088.0   389  0.000    0.000   \n",
       "icelandic                   44.0   28.0  117.0   295.0    12  0.000    0.000   \n",
       "irish                       69.0   54.0  188.0   449.0    15  0.000    0.000   \n",
       "all                        326.0  143.0  799.0  3648.0  None  0.683    0.631   \n",
       "Dutch                        NaN    NaN    NaN     NaN   NaN  0.000    0.000   \n",
       "English                      NaN    NaN    NaN     NaN   NaN  0.386    0.238   \n",
       "French                       NaN    NaN    NaN     NaN   NaN  0.000    0.000   \n",
       "German                       NaN    NaN    NaN     NaN   NaN  0.000    0.000   \n",
       "Icelandic                    NaN    NaN    NaN     NaN   NaN  0.000    0.000   \n",
       "Irish                        NaN    NaN    NaN     NaN   NaN  0.000    0.000   \n",
       "English with Anglo-Norman    NaN    NaN    NaN     NaN   NaN  0.516    0.369   \n",
       "\n",
       "                           CH1-uCI     MS  MS-lCI  MS-uCI  \n",
       "language                                                   \n",
       "dutch                        0.000  0.000   0.000   0.000  \n",
       "english                      0.000  0.000   0.000   0.000  \n",
       "french                       0.000  0.000   0.000   0.000  \n",
       "german                       0.000  0.000   0.000   0.000  \n",
       "icelandic                    0.000  0.000   0.000   0.000  \n",
       "irish                        0.000  0.000   0.000   0.000  \n",
       "all                          0.735  0.090   0.075   0.107  \n",
       "Dutch                        0.000  0.075   0.043   0.133  \n",
       "English                      0.576  0.049   0.023   0.088  \n",
       "French                       0.000  0.054   0.039   0.073  \n",
       "German                       0.000  0.145   0.089   0.237  \n",
       "Icelandic                    0.000  0.169   0.100   0.297  \n",
       "Irish                        0.000  0.192   0.124   0.300  \n",
       "English with Anglo-Norman    0.682    NaN     NaN     NaN  "
      ]
     },
     "execution_count": 237,
     "metadata": {},
     "output_type": "execute_result"
    }
   ],
   "source": [
    "for c in 'CH1 CH1-lCI CH1-uCI MS MS-lCI MS-uCI'.split():\n",
    "    stats_df[c] = 0.0\n",
    "\n",
    "# for individual languages:\n",
    "for lang in wsurvival:\n",
    "    stats_df.loc[lang, 'CH1'] = wsurvival[lang]['survival']\n",
    "    stats_df.loc[lang, 'CH1-lCI'] = wsurvival[lang]['lci']\n",
    "    stats_df.loc[lang, 'CH1-uCI'] = wsurvival[lang]['uci']\n",
    "\n",
    "for lang in dsurvival:\n",
    "    stats_df.loc[lang, 'MS'] = dsurvival[lang]['survival']\n",
    "    stats_df.loc[lang, 'MS-lCI'] = dsurvival[lang]['lci']\n",
    "    stats_df.loc[lang, 'MS-uCI'] = dsurvival[lang]['uci']\n",
    "    \n",
    "# for union:\n",
    "stats_df.loc['all', 'CH1'] = wsurvival_all['survival']\n",
    "stats_df.loc['all', 'CH1-lCI'] = wsurvival_all['lci']\n",
    "stats_df.loc['all', 'CH1-uCI'] = wsurvival_all['uci']\n",
    "\n",
    "stats_df.loc['all', 'MS'] = dsurvival_all['survival']\n",
    "stats_df.loc['all', 'MS-lCI'] = dsurvival_all['lci']\n",
    "stats_df.loc['all', 'MS-uCI'] = dsurvival_all['uci']\n",
    "\n",
    "stats_df.round(3)"
   ]
  },
  {
   "cell_type": "markdown",
   "metadata": {},
   "source": [
    "The cell below dumps the result to a Latex table for inclusion in the paper:"
   ]
  },
  {
   "cell_type": "code",
   "execution_count": 238,
   "metadata": {},
   "outputs": [],
   "source": [
    "with open('../outputs/results.txt', 'w') as f:\n",
    "    f.write(stats_df.round(3).to_latex())"
   ]
  },
  {
   "cell_type": "markdown",
   "metadata": {},
   "source": [
    "### Evenness"
   ]
  },
  {
   "cell_type": "markdown",
   "metadata": {},
   "source": [
    "For plotting the evenness profiles, we first need to calculate the (estimated, reconstructed) Hill number profile for each of the languages:"
   ]
  },
  {
   "cell_type": "code",
   "execution_count": 26,
   "metadata": {
    "scrolled": false
   },
   "outputs": [
    {
     "name": "stderr",
     "output_type": "stream",
     "text": [
      "100%|██████████| 100/100 [00:01<00:00, 74.50it/s]\n",
      "100%|██████████| 100/100 [00:02<00:00, 35.38it/s]\n",
      "100%|██████████| 100/100 [00:01<00:00, 75.09it/s]\n",
      "100%|██████████| 100/100 [00:03<00:00, 32.44it/s]\n",
      "100%|██████████| 100/100 [00:01<00:00, 69.45it/s]\n",
      "100%|██████████| 100/100 [00:18<00:00,  5.48it/s]\n",
      "100%|██████████| 100/100 [00:01<00:00, 70.81it/s]\n",
      "100%|██████████| 100/100 [00:13<00:00,  7.38it/s]\n",
      "100%|██████████| 100/100 [00:01<00:00, 74.45it/s]\n",
      "100%|██████████| 100/100 [00:03<00:00, 29.50it/s]\n",
      "100%|██████████| 100/100 [00:01<00:00, 74.51it/s]\n",
      "100%|██████████| 100/100 [00:04<00:00, 24.88it/s]\n"
     ]
    }
   ],
   "source": [
    "hill_est = {}\n",
    "for lang, assemblage in assemblages.items():\n",
    "    emp, est = hill_numbers(assemblage, n_iter=100) # was: 10000\n",
    "    hill_est[lang] = est"
   ]
  },
  {
   "cell_type": "markdown",
   "metadata": {},
   "source": [
    "We can compute the (normalized) evenness profiles on the basis of the Hill number profiles:"
   ]
  },
  {
   "cell_type": "code",
   "execution_count": 27,
   "metadata": {},
   "outputs": [],
   "source": [
    "evennesses = {l:evenness(hill_est[l]) for l in hill_est}"
   ]
  },
  {
   "cell_type": "markdown",
   "metadata": {},
   "source": [
    "Plotting these in a single graph can be done through calling the associated auxiliary function:"
   ]
  },
  {
   "cell_type": "code",
   "execution_count": 48,
   "metadata": {},
   "outputs": [
    {
     "data": {
      "image/png": "[encoded data removed]",
      "text/plain": [
       "<Figure size 432x288 with 1 Axes>"
      ]
     },
     "metadata": {
      "needs_background": "light"
     },
     "output_type": "display_data"
    }
   ],
   "source": [
    "ax = evenness_plot(evennesses)\n",
    "ax.tick_params(axis='y', which='minor', left=True)\n",
    "lines, labels = ax.get_legend_handles_labels()\n",
    "ax.set_title(None)\n",
    "ax.legend(lines, labels, loc = 'upper center', ncol=3, bbox_to_anchor=(0.5, 1.15), frameon=False)\n",
    "plt.savefig('../outputs/evenness.pdf')"
   ]
  },
  {
   "cell_type": "markdown",
   "metadata": {},
   "source": [
    "We can repeat this for the second class of evenness measures, based on the coefficient of variation:"
   ]
  },
  {
   "cell_type": "code",
   "execution_count": 53,
   "metadata": {},
   "outputs": [
    {
     "name": "stderr",
     "output_type": "stream",
     "text": [
      "/Users/folgert/projects/copia/copia/utils.py:229: RuntimeWarning: invalid value encountered in true_divide\n",
      "  evenness = ((1 - (d['richness'] ** qs)) /\n",
      "/Users/folgert/projects/copia/copia/utils.py:229: RuntimeWarning: invalid value encountered in true_divide\n",
      "  evenness = ((1 - (d['richness'] ** qs)) /\n"
     ]
    },
    {
     "data": {
      "image/png": "[encoded data removed]",
      "text/plain": [
       "<Figure size 720x504 with 5 Axes>"
      ]
     },
     "metadata": {
      "needs_background": "light"
     },
     "output_type": "display_data"
    }
   ],
   "source": [
    "import matplotlib.pyplot as plt\n",
    "\n",
    "\n",
    "from matplotlib.lines import Line2D\n",
    "\n",
    "fig, axes = plt.subplots(nrows=2, ncols=3, figsize=(10, 7), sharey=True)\n",
    "axes = axes.flatten()\n",
    "\n",
    "for i in range(1, 6):\n",
    "    evennesses = {l:evenness(hill_est[l], E=i) for l in hill_est}\n",
    "    ax = evenness_plot(evennesses, xlabel=\"Diversity order $q$\", ylabel=\"Evenness\", ax=axes[i-1])\n",
    "    ax.set_title(f\"$E_{i}$\")\n",
    "    ax.tick_params(axis='y', which='minor', left=True)\n",
    "    ax.get_legend().remove()\n",
    "axes[-1].remove()  # don't display empty ax\n",
    "\n",
    "lines, labels = fig.axes[-1].get_legend_handles_labels()\n",
    "fig.legend(lines, labels, loc = 'upper center', ncol=6, bbox_to_anchor=(0.5, 1.05), frameon=False)\n",
    "\n",
    "plt.tight_layout()\n",
    "\n",
    "plt.savefig(f\"../outputs/evenness-plots.pdf\", bbox_inches='tight')"
   ]
  },
  {
   "cell_type": "markdown",
   "metadata": {},
   "source": [
    "## Anglo-Norman"
   ]
  },
  {
   "cell_type": "markdown",
   "metadata": {},
   "source": [
    "Because the scores for Middle English are so (extremely) low, it is worth investigating the ffect of complementing the English data with abundance data from Anglo-Norman literature. We can load this data, ignored above, as follows:"
   ]
  },
  {
   "cell_type": "code",
   "execution_count": 54,
   "metadata": {},
   "outputs": [
    {
     "data": {
      "text/html": [
       "<div>\n",
       "<style scoped>\n",
       "    .dataframe tbody tr th:only-of-type {\n",
       "        vertical-align: middle;\n",
       "    }\n",
       "\n",
       "    .dataframe tbody tr th {\n",
       "        vertical-align: top;\n",
       "    }\n",
       "\n",
       "    .dataframe thead th {\n",
       "        text-align: right;\n",
       "    }\n",
       "</style>\n",
       "<table border=\"1\" class=\"dataframe\">\n",
       "  <thead>\n",
       "    <tr style=\"text-align: right;\">\n",
       "      <th></th>\n",
       "      <th>title</th>\n",
       "      <th>signature</th>\n",
       "    </tr>\n",
       "  </thead>\n",
       "  <tbody>\n",
       "    <tr>\n",
       "      <th>0</th>\n",
       "      <td>Romance of Horn</td>\n",
       "      <td>Cambridge, CUL, Ff.vi.17</td>\n",
       "    </tr>\n",
       "    <tr>\n",
       "      <th>1</th>\n",
       "      <td>Romance of Horn</td>\n",
       "      <td>Cambridge, CUL, Add. 4407</td>\n",
       "    </tr>\n",
       "    <tr>\n",
       "      <th>2</th>\n",
       "      <td>Romance of Horn</td>\n",
       "      <td>Cambridge, CUL, Add. 4470</td>\n",
       "    </tr>\n",
       "    <tr>\n",
       "      <th>3</th>\n",
       "      <td>Romance of Horn</td>\n",
       "      <td>London, British Library, Harley 527</td>\n",
       "    </tr>\n",
       "    <tr>\n",
       "      <th>4</th>\n",
       "      <td>Romance of Horn</td>\n",
       "      <td>Oxford, Bodleian Library, Douce 132</td>\n",
       "    </tr>\n",
       "    <tr>\n",
       "      <th>...</th>\n",
       "      <td>...</td>\n",
       "      <td>...</td>\n",
       "    </tr>\n",
       "    <tr>\n",
       "      <th>58</th>\n",
       "      <td>Gormont et Isembart</td>\n",
       "      <td>Brussels, Bibl. Roy., portefeuille II.181</td>\n",
       "    </tr>\n",
       "    <tr>\n",
       "      <th>59</th>\n",
       "      <td>La destructioun de Rome</td>\n",
       "      <td>Hannover, Niedersachsische Landesbibl., IV.578</td>\n",
       "    </tr>\n",
       "    <tr>\n",
       "      <th>60</th>\n",
       "      <td>La destructioun de Rome</td>\n",
       "      <td>London, British Library, Egerton 3028</td>\n",
       "    </tr>\n",
       "    <tr>\n",
       "      <th>61</th>\n",
       "      <td>Fierabras</td>\n",
       "      <td>Hannover, Niedersachsische Landesbibl., IV.578</td>\n",
       "    </tr>\n",
       "    <tr>\n",
       "      <th>62</th>\n",
       "      <td>Fierabras</td>\n",
       "      <td>London, British Library, Egerton 3028</td>\n",
       "    </tr>\n",
       "  </tbody>\n",
       "</table>\n",
       "<p>63 rows × 2 columns</p>\n",
       "</div>"
      ],
      "text/plain": [
       "                      title                                       signature\n",
       "0           Romance of Horn                        Cambridge, CUL, Ff.vi.17\n",
       "1           Romance of Horn                       Cambridge, CUL, Add. 4407\n",
       "2           Romance of Horn                       Cambridge, CUL, Add. 4470\n",
       "3           Romance of Horn             London, British Library, Harley 527\n",
       "4           Romance of Horn             Oxford, Bodleian Library, Douce 132\n",
       "..                      ...                                             ...\n",
       "58      Gormont et Isembart       Brussels, Bibl. Roy., portefeuille II.181\n",
       "59  La destructioun de Rome  Hannover, Niedersachsische Landesbibl., IV.578\n",
       "60  La destructioun de Rome           London, British Library, Egerton 3028\n",
       "61                Fierabras  Hannover, Niedersachsische Landesbibl., IV.578\n",
       "62                Fierabras           London, British Library, Egerton 3028\n",
       "\n",
       "[63 rows x 2 columns]"
      ]
     },
     "execution_count": 54,
     "metadata": {},
     "output_type": "execute_result"
    }
   ],
   "source": [
    "an_fn = '../datasets/master/anglo-norman.xlsx'\n",
    "an = pd.read_excel(an_fn).dropna(subset = [\"title\"])\n",
    "an = an[['title', 'signature']]\n",
    "an"
   ]
  },
  {
   "cell_type": "markdown",
   "metadata": {},
   "source": [
    "In the cell below, we repeat some of the basic analyses above for the estimating the works diversity of the combined Middle English and Anglo-Norman data."
   ]
  },
  {
   "cell_type": "code",
   "execution_count": 79,
   "metadata": {},
   "outputs": [
    {
     "name": "stderr",
     "output_type": "stream",
     "text": [
      "100%|██████████| 10000/10000 [00:02<00:00, 3576.96it/s]\n",
      "100%|██████████| 10000/10000 [00:02<00:00, 4685.89it/s]\n"
     ]
    }
   ],
   "source": [
    "comp = {'English': assemblages['English'],\n",
    "        'English with Anglo-Norman': np.concatenate((assemblages['English'],\n",
    "                                                 u.to_abundance(an['title'])))\n",
    "       }\n",
    "\n",
    "wsurvival = {}\n",
    "for category, assemblage in comp.items():\n",
    "    wsurvival[category] = survival_ratio(assemblage, method='chao1', n_iter=10000)"
   ]
  },
  {
   "cell_type": "code",
   "execution_count": 80,
   "metadata": {},
   "outputs": [
    {
     "data": {
      "image/png": "[encoded data removed]",
      "text/plain": [
       "<Figure size 432x288 with 1 Axes>"
      ]
     },
     "metadata": {
      "needs_background": "light"
     },
     "output_type": "display_data"
    }
   ],
   "source": [
    "ax = multi_kde(wsurvival, figsize=(6, 4))\n",
    "ax.legend(loc='center right', bbox_to_anchor=(1.1, 0.9))\n",
    "ax.set_xlabel('Survival ratio (works)')\n",
    "ax.set_yticklabels([])\n",
    "ax.tick_params(axis='y', which='both', left=False)\n",
    "ax.spines['left'].set_visible(False)\n",
    "plt.savefig('../outputs/anglonorman.pdf');"
   ]
  },
  {
   "cell_type": "code",
   "execution_count": 81,
   "metadata": {},
   "outputs": [
    {
     "name": "stdout",
     "output_type": "stream",
     "text": [
      "English: 0.386 [0.238-0.576]\n",
      "English with Anglo-Norman: 0.516 [0.369-0.682]\n"
     ]
    }
   ],
   "source": [
    "for cat, res in wsurvival.items():\n",
    "    print(f'{cat}: {round(res[\"survival\"], 3)} [{round(res[\"lci\"], 3)}-{round(res[\"uci\"], 3)}]')"
   ]
  },
  {
   "cell_type": "markdown",
   "metadata": {},
   "source": [
    "## Additional estimators"
   ]
  },
  {
   "cell_type": "markdown",
   "metadata": {},
   "source": [
    "In the paper, we focus on Chao1, which is an established and robust method in ecology. It is useful to compare the results, however, to a number of additional estimators for the work survival. From `copia`, the following alternatives are available:\n",
    "- the higher-order **Jackknife**: a more general method for bias-correction in statistics\n",
    "- **iChao1**: an variant of Chao1, that also takes into account $f_3$ and $f_4$\n",
    "- the **Egghe & Proot** estimator, using the default setting of `alpha=150`."
   ]
  },
  {
   "cell_type": "code",
   "execution_count": 82,
   "metadata": {},
   "outputs": [
    {
     "name": "stderr",
     "output_type": "stream",
     "text": [
      "100%|██████████| 10000/10000 [00:02<00:00, 4654.07it/s]\n",
      "100%|██████████| 10000/10000 [00:02<00:00, 4788.44it/s]\n",
      "100%|██████████| 10000/10000 [00:02<00:00, 4861.29it/s]\n",
      "100%|██████████| 10000/10000 [00:02<00:00, 4765.95it/s]\n",
      "100%|██████████| 10000/10000 [00:02<00:00, 4770.25it/s]\n",
      "100%|██████████| 10000/10000 [00:01<00:00, 5015.72it/s]\n",
      "100%|██████████| 10000/10000 [00:02<00:00, 4204.69it/s]\n",
      "100%|██████████| 10000/10000 [00:02<00:00, 4357.36it/s]\n",
      "100%|██████████| 10000/10000 [00:02<00:00, 4381.31it/s]\n",
      "100%|██████████| 10000/10000 [00:02<00:00, 4351.82it/s]\n",
      "100%|██████████| 10000/10000 [00:02<00:00, 4158.28it/s]\n",
      "100%|██████████| 10000/10000 [00:02<00:00, 4383.37it/s]\n",
      "100%|██████████| 10000/10000 [00:02<00:00, 4280.34it/s]\n",
      "100%|██████████| 10000/10000 [00:02<00:00, 4658.72it/s]\n",
      "100%|██████████| 10000/10000 [00:02<00:00, 4517.70it/s]\n",
      "100%|██████████| 10000/10000 [00:02<00:00, 4513.83it/s]\n",
      "100%|██████████| 10000/10000 [00:02<00:00, 4145.53it/s]\n",
      "100%|██████████| 10000/10000 [00:02<00:00, 4560.31it/s]\n"
     ]
    }
   ],
   "source": [
    "comp = []\n",
    "\n",
    "for estimator in ['chao1', 'jackknife', 'ichao1', 'egghe_proot']:\n",
    "    for category, assemblage in assemblages.items():\n",
    "        surv = survival_ratio(assemblage, method=estimator, n_iter=10000)\n",
    "        comp.append([category, estimator, surv['survival'], surv['lci'], surv['uci']])\n",
    "        \n",
    "comp = pd.DataFrame(comp, columns=['tradition', 'estimator', 'survival', 'lci', 'uci'])"
   ]
  },
  {
   "cell_type": "code",
   "execution_count": 83,
   "metadata": {},
   "outputs": [
    {
     "data": {
      "text/html": [
       "<div>\n",
       "<style scoped>\n",
       "    .dataframe tbody tr th:only-of-type {\n",
       "        vertical-align: middle;\n",
       "    }\n",
       "\n",
       "    .dataframe tbody tr th {\n",
       "        vertical-align: top;\n",
       "    }\n",
       "\n",
       "    .dataframe thead th {\n",
       "        text-align: right;\n",
       "    }\n",
       "</style>\n",
       "<table border=\"1\" class=\"dataframe\">\n",
       "  <thead>\n",
       "    <tr style=\"text-align: right;\">\n",
       "      <th></th>\n",
       "      <th>tradition</th>\n",
       "      <th>estimator</th>\n",
       "      <th>survival</th>\n",
       "      <th>lci</th>\n",
       "      <th>uci</th>\n",
       "    </tr>\n",
       "  </thead>\n",
       "  <tbody>\n",
       "    <tr>\n",
       "      <th>0</th>\n",
       "      <td>Dutch</td>\n",
       "      <td>chao1</td>\n",
       "      <td>0.492067</td>\n",
       "      <td>0.334980</td>\n",
       "      <td>0.680883</td>\n",
       "    </tr>\n",
       "    <tr>\n",
       "      <th>18</th>\n",
       "      <td>Dutch</td>\n",
       "      <td>egghe_proot</td>\n",
       "      <td>0.440399</td>\n",
       "      <td>0.277779</td>\n",
       "      <td>0.643275</td>\n",
       "    </tr>\n",
       "    <tr>\n",
       "      <th>12</th>\n",
       "      <td>Dutch</td>\n",
       "      <td>ichao1</td>\n",
       "      <td>0.437208</td>\n",
       "      <td>0.291191</td>\n",
       "      <td>0.614773</td>\n",
       "    </tr>\n",
       "    <tr>\n",
       "      <th>6</th>\n",
       "      <td>Dutch</td>\n",
       "      <td>jackknife</td>\n",
       "      <td>0.423729</td>\n",
       "      <td>0.331573</td>\n",
       "      <td>0.586830</td>\n",
       "    </tr>\n",
       "    <tr>\n",
       "      <th>1</th>\n",
       "      <td>English</td>\n",
       "      <td>chao1</td>\n",
       "      <td>0.386287</td>\n",
       "      <td>0.238950</td>\n",
       "      <td>0.573481</td>\n",
       "    </tr>\n",
       "    <tr>\n",
       "      <th>19</th>\n",
       "      <td>English</td>\n",
       "      <td>egghe_proot</td>\n",
       "      <td>0.318201</td>\n",
       "      <td>0.187027</td>\n",
       "      <td>0.490859</td>\n",
       "    </tr>\n",
       "    <tr>\n",
       "      <th>13</th>\n",
       "      <td>English</td>\n",
       "      <td>ichao1</td>\n",
       "      <td>0.366780</td>\n",
       "      <td>0.221740</td>\n",
       "      <td>0.561504</td>\n",
       "    </tr>\n",
       "    <tr>\n",
       "      <th>7</th>\n",
       "      <td>English</td>\n",
       "      <td>jackknife</td>\n",
       "      <td>0.338235</td>\n",
       "      <td>0.254306</td>\n",
       "      <td>0.504855</td>\n",
       "    </tr>\n",
       "    <tr>\n",
       "      <th>2</th>\n",
       "      <td>French</td>\n",
       "      <td>chao1</td>\n",
       "      <td>0.535293</td>\n",
       "      <td>0.435255</td>\n",
       "      <td>0.641297</td>\n",
       "    </tr>\n",
       "    <tr>\n",
       "      <th>20</th>\n",
       "      <td>French</td>\n",
       "      <td>egghe_proot</td>\n",
       "      <td>0.374413</td>\n",
       "      <td>0.287169</td>\n",
       "      <td>0.470430</td>\n",
       "    </tr>\n",
       "    <tr>\n",
       "      <th>14</th>\n",
       "      <td>French</td>\n",
       "      <td>ichao1</td>\n",
       "      <td>0.504935</td>\n",
       "      <td>0.406875</td>\n",
       "      <td>0.609803</td>\n",
       "    </tr>\n",
       "    <tr>\n",
       "      <th>8</th>\n",
       "      <td>French</td>\n",
       "      <td>jackknife</td>\n",
       "      <td>0.434442</td>\n",
       "      <td>0.361473</td>\n",
       "      <td>0.544324</td>\n",
       "    </tr>\n",
       "    <tr>\n",
       "      <th>3</th>\n",
       "      <td>German</td>\n",
       "      <td>chao1</td>\n",
       "      <td>0.789763</td>\n",
       "      <td>0.657076</td>\n",
       "      <td>0.915182</td>\n",
       "    </tr>\n",
       "    <tr>\n",
       "      <th>21</th>\n",
       "      <td>German</td>\n",
       "      <td>egghe_proot</td>\n",
       "      <td>0.653161</td>\n",
       "      <td>0.476192</td>\n",
       "      <td>0.837812</td>\n",
       "    </tr>\n",
       "    <tr>\n",
       "      <th>15</th>\n",
       "      <td>German</td>\n",
       "      <td>ichao1</td>\n",
       "      <td>0.750435</td>\n",
       "      <td>0.613675</td>\n",
       "      <td>0.887034</td>\n",
       "    </tr>\n",
       "    <tr>\n",
       "      <th>9</th>\n",
       "      <td>German</td>\n",
       "      <td>jackknife</td>\n",
       "      <td>0.707182</td>\n",
       "      <td>0.610089</td>\n",
       "      <td>0.841029</td>\n",
       "    </tr>\n",
       "    <tr>\n",
       "      <th>4</th>\n",
       "      <td>Icelandic</td>\n",
       "      <td>chao1</td>\n",
       "      <td>0.772511</td>\n",
       "      <td>0.632088</td>\n",
       "      <td>0.909952</td>\n",
       "    </tr>\n",
       "    <tr>\n",
       "      <th>22</th>\n",
       "      <td>Icelandic</td>\n",
       "      <td>egghe_proot</td>\n",
       "      <td>0.720800</td>\n",
       "      <td>0.543395</td>\n",
       "      <td>0.903726</td>\n",
       "    </tr>\n",
       "    <tr>\n",
       "      <th>16</th>\n",
       "      <td>Icelandic</td>\n",
       "      <td>ichao1</td>\n",
       "      <td>0.731365</td>\n",
       "      <td>0.592773</td>\n",
       "      <td>0.879309</td>\n",
       "    </tr>\n",
       "    <tr>\n",
       "      <th>10</th>\n",
       "      <td>Icelandic</td>\n",
       "      <td>jackknife</td>\n",
       "      <td>0.726708</td>\n",
       "      <td>0.652224</td>\n",
       "      <td>0.820397</td>\n",
       "    </tr>\n",
       "    <tr>\n",
       "      <th>5</th>\n",
       "      <td>Irish</td>\n",
       "      <td>chao1</td>\n",
       "      <td>0.810397</td>\n",
       "      <td>0.706628</td>\n",
       "      <td>0.914168</td>\n",
       "    </tr>\n",
       "    <tr>\n",
       "      <th>23</th>\n",
       "      <td>Irish</td>\n",
       "      <td>egghe_proot</td>\n",
       "      <td>0.791435</td>\n",
       "      <td>0.645458</td>\n",
       "      <td>0.944491</td>\n",
       "    </tr>\n",
       "    <tr>\n",
       "      <th>17</th>\n",
       "      <td>Irish</td>\n",
       "      <td>ichao1</td>\n",
       "      <td>0.810397</td>\n",
       "      <td>0.683000</td>\n",
       "      <td>0.943649</td>\n",
       "    </tr>\n",
       "    <tr>\n",
       "      <th>11</th>\n",
       "      <td>Irish</td>\n",
       "      <td>jackknife</td>\n",
       "      <td>0.731518</td>\n",
       "      <td>0.671370</td>\n",
       "      <td>0.803502</td>\n",
       "    </tr>\n",
       "  </tbody>\n",
       "</table>\n",
       "</div>"
      ],
      "text/plain": [
       "    tradition    estimator  survival       lci       uci\n",
       "0       Dutch        chao1  0.492067  0.334980  0.680883\n",
       "18      Dutch  egghe_proot  0.440399  0.277779  0.643275\n",
       "12      Dutch       ichao1  0.437208  0.291191  0.614773\n",
       "6       Dutch    jackknife  0.423729  0.331573  0.586830\n",
       "1     English        chao1  0.386287  0.238950  0.573481\n",
       "19    English  egghe_proot  0.318201  0.187027  0.490859\n",
       "13    English       ichao1  0.366780  0.221740  0.561504\n",
       "7     English    jackknife  0.338235  0.254306  0.504855\n",
       "2      French        chao1  0.535293  0.435255  0.641297\n",
       "20     French  egghe_proot  0.374413  0.287169  0.470430\n",
       "14     French       ichao1  0.504935  0.406875  0.609803\n",
       "8      French    jackknife  0.434442  0.361473  0.544324\n",
       "3      German        chao1  0.789763  0.657076  0.915182\n",
       "21     German  egghe_proot  0.653161  0.476192  0.837812\n",
       "15     German       ichao1  0.750435  0.613675  0.887034\n",
       "9      German    jackknife  0.707182  0.610089  0.841029\n",
       "4   Icelandic        chao1  0.772511  0.632088  0.909952\n",
       "22  Icelandic  egghe_proot  0.720800  0.543395  0.903726\n",
       "16  Icelandic       ichao1  0.731365  0.592773  0.879309\n",
       "10  Icelandic    jackknife  0.726708  0.652224  0.820397\n",
       "5       Irish        chao1  0.810397  0.706628  0.914168\n",
       "23      Irish  egghe_proot  0.791435  0.645458  0.944491\n",
       "17      Irish       ichao1  0.810397  0.683000  0.943649\n",
       "11      Irish    jackknife  0.731518  0.671370  0.803502"
      ]
     },
     "execution_count": 83,
     "metadata": {},
     "output_type": "execute_result"
    }
   ],
   "source": [
    "estimates = comp.sort_values(['tradition', 'estimator'])\n",
    "estimates"
   ]
  },
  {
   "cell_type": "code",
   "execution_count": 87,
   "metadata": {},
   "outputs": [],
   "source": [
    "estimates[\"estimator\"] = estimates[\"estimator\"].str.replace(\"_\", \" \")"
   ]
  },
  {
   "cell_type": "code",
   "execution_count": 88,
   "metadata": {},
   "outputs": [],
   "source": [
    "with open('../outputs/other.txt', 'w') as f:\n",
    "    f.write(estimates.round(3).to_latex())"
   ]
  },
  {
   "cell_type": "markdown",
   "metadata": {},
   "source": [
    "We can visualize these results using a bar plot to obtain a better overview:"
   ]
  },
  {
   "cell_type": "code",
   "execution_count": 106,
   "metadata": {},
   "outputs": [
    {
     "data": {
      "image/png": "[encoded data removed]",
      "text/plain": [
       "<Figure size 864x576 with 1 Axes>"
      ]
     },
     "metadata": {
      "needs_background": "light"
     },
     "output_type": "display_data"
    }
   ],
   "source": [
    "errors = np.array(list(zip(estimates['lci'], estimates['uci']))).T\n",
    "errors[0] = estimates['survival'] - errors[0]\n",
    "errors[1] -= estimates['survival']\n",
    "\n",
    "fig, ax = plt.subplots(figsize=(12, 8))\n",
    "\n",
    "traditions = sorted(set(estimates['tradition']))\n",
    "color_dict = {t: f\"C{i}\" for i, t in enumerate(traditions)}\n",
    "labeled = {t:False for t in color_dict}\n",
    "\n",
    "for idx in range(len(estimates)):\n",
    "    trad = estimates['tradition'].iloc[idx]\n",
    "    meth = estimates['estimator'].iloc[idx]\n",
    "    label = trad if not labeled[trad] else None\n",
    "    c = color_dict[trad]\n",
    "    labeled[trad] = True\n",
    "    ax.errorbar(idx, estimates['survival'].iloc[idx],\n",
    "        yerr=np.array([errors[:, idx]]).T,\n",
    "        fmt='.', c=color_dict[trad], label=label,\n",
    "        ms=12)\n",
    "\n",
    "\n",
    "ax.set_ylabel('Survival ratio (works) for different\\ncombinations of estimators and traditions', fontsize=14)\n",
    "ax.set_xticks(np.arange(len(estimates)))\n",
    "ax.set_xticklabels(estimates['estimator'], rotation = 90);\n",
    "ax.legend(loc='upper center', ncol=len(assemblages), bbox_to_anchor=(0.5, 1.05), frameon=False, fontsize=14)\n",
    "\n",
    "plt.savefig('../outputs/other.pdf');"
   ]
  },
  {
   "cell_type": "markdown",
   "metadata": {},
   "source": [
    "As can be seen, the methods show differences but are largely in agreement. The overall difference is confirmed, between the relatively lower survival rates for Dutch, English, and French, as opposed to the considerably higher survival rates for German, Icelandic and Irish."
   ]
  }
 ],
 "metadata": {
  "kernelspec": {
   "display_name": "Python 3",
   "language": "python",
   "name": "python3"
  },
  "language_info": {
   "codemirror_mode": {
    "name": "ipython",
    "version": 3
   },
   "file_extension": ".py",
   "mimetype": "text/x-python",
   "name": "python",
   "nbconvert_exporter": "python",
   "pygments_lexer": "ipython3",
   "version": "3.8.11"
  }
 },
 "nbformat": 4,
 "nbformat_minor": 5
}
